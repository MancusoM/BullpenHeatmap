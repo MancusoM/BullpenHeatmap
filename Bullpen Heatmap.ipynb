{
 "cells": [
  {
   "cell_type": "code",
   "execution_count": 1,
   "metadata": {},
   "outputs": [],
   "source": [
    "import numpy as np \n",
    "import pandas as pd \n",
    "import seaborn as sns \n",
    "import matplotlib.pyplot as plt "
   ]
  },
  {
   "cell_type": "code",
   "execution_count": 35,
   "metadata": {},
   "outputs": [],
   "source": [
    "Salaries = pd.read_csv(\"Salaries (2).csv\")"
   ]
  },
  {
   "cell_type": "code",
   "execution_count": 36,
   "metadata": {},
   "outputs": [
    {
     "data": {
      "text/html": [
       "<div>\n",
       "<style scoped>\n",
       "    .dataframe tbody tr th:only-of-type {\n",
       "        vertical-align: middle;\n",
       "    }\n",
       "\n",
       "    .dataframe tbody tr th {\n",
       "        vertical-align: top;\n",
       "    }\n",
       "\n",
       "    .dataframe thead th {\n",
       "        text-align: right;\n",
       "    }\n",
       "</style>\n",
       "<table border=\"1\" class=\"dataframe\">\n",
       "  <thead>\n",
       "    <tr style=\"text-align: right;\">\n",
       "      <th></th>\n",
       "      <th>Unnamed: 0</th>\n",
       "      <th>Name</th>\n",
       "      <th>Unnamed: 2</th>\n",
       "      <th>Team</th>\n",
       "      <th>W</th>\n",
       "      <th>L</th>\n",
       "      <th>SV</th>\n",
       "      <th>G</th>\n",
       "      <th>GS</th>\n",
       "      <th>Relief Games</th>\n",
       "      <th>...</th>\n",
       "      <th>FIP</th>\n",
       "      <th>xFIP</th>\n",
       "      <th>WAR</th>\n",
       "      <th>playerid</th>\n",
       "      <th>release_extension</th>\n",
       "      <th>fWAR</th>\n",
       "      <th>K/9.1</th>\n",
       "      <th>B/9</th>\n",
       "      <th>Salary</th>\n",
       "      <th>Maj.League minum</th>\n",
       "    </tr>\n",
       "  </thead>\n",
       "  <tbody>\n",
       "    <tr>\n",
       "      <td>0</td>\n",
       "      <td>1.0</td>\n",
       "      <td>Mike Mayers</td>\n",
       "      <td>Mike Mayers</td>\n",
       "      <td>Angels</td>\n",
       "      <td>2.0</td>\n",
       "      <td>0.0</td>\n",
       "      <td>2.0</td>\n",
       "      <td>29.0</td>\n",
       "      <td>0.0</td>\n",
       "      <td>29.0</td>\n",
       "      <td>...</td>\n",
       "      <td>2.19</td>\n",
       "      <td>3.38</td>\n",
       "      <td>0.9</td>\n",
       "      <td>15451.0</td>\n",
       "      <td>7.29</td>\n",
       "      <td>3.38</td>\n",
       "      <td>30.0</td>\n",
       "      <td>12.90</td>\n",
       "      <td>573000.0</td>\n",
       "      <td>563500.0</td>\n",
       "    </tr>\n",
       "    <tr>\n",
       "      <td>1</td>\n",
       "      <td>2.0</td>\n",
       "      <td>Ty Buttrey</td>\n",
       "      <td>Ty Buttrey</td>\n",
       "      <td>Angels</td>\n",
       "      <td>2.0</td>\n",
       "      <td>3.0</td>\n",
       "      <td>5.0</td>\n",
       "      <td>27.0</td>\n",
       "      <td>0.0</td>\n",
       "      <td>27.0</td>\n",
       "      <td>...</td>\n",
       "      <td>4.94</td>\n",
       "      <td>4.65</td>\n",
       "      <td>-0.1</td>\n",
       "      <td>14719.0</td>\n",
       "      <td>6.62</td>\n",
       "      <td>4.65</td>\n",
       "      <td>26.1</td>\n",
       "      <td>6.15</td>\n",
       "      <td>578500.0</td>\n",
       "      <td>NaN</td>\n",
       "    </tr>\n",
       "    <tr>\n",
       "      <td>2</td>\n",
       "      <td>3.0</td>\n",
       "      <td>Felix Pena</td>\n",
       "      <td>Felix Pena</td>\n",
       "      <td>Angels</td>\n",
       "      <td>3.0</td>\n",
       "      <td>0.0</td>\n",
       "      <td>2.0</td>\n",
       "      <td>25.0</td>\n",
       "      <td>0.0</td>\n",
       "      <td>25.0</td>\n",
       "      <td>...</td>\n",
       "      <td>3.00</td>\n",
       "      <td>3.62</td>\n",
       "      <td>0.5</td>\n",
       "      <td>13403.0</td>\n",
       "      <td>5.71</td>\n",
       "      <td>3.62</td>\n",
       "      <td>26.2</td>\n",
       "      <td>9.79</td>\n",
       "      <td>587500.0</td>\n",
       "      <td>NaN</td>\n",
       "    </tr>\n",
       "    <tr>\n",
       "      <td>3</td>\n",
       "      <td>4.0</td>\n",
       "      <td>Noe Ramirez</td>\n",
       "      <td>Noe Ramirez</td>\n",
       "      <td>Angels</td>\n",
       "      <td>1.0</td>\n",
       "      <td>0.0</td>\n",
       "      <td>0.0</td>\n",
       "      <td>21.0</td>\n",
       "      <td>0.0</td>\n",
       "      <td>21.0</td>\n",
       "      <td>...</td>\n",
       "      <td>4.52</td>\n",
       "      <td>5.49</td>\n",
       "      <td>0.1</td>\n",
       "      <td>12800.0</td>\n",
       "      <td>5.28</td>\n",
       "      <td>5.49</td>\n",
       "      <td>21.0</td>\n",
       "      <td>6.00</td>\n",
       "      <td>900000.0</td>\n",
       "      <td>NaN</td>\n",
       "    </tr>\n",
       "    <tr>\n",
       "      <td>4</td>\n",
       "      <td>5.0</td>\n",
       "      <td>Hoby Milner</td>\n",
       "      <td>Hoby Milner</td>\n",
       "      <td>Angels</td>\n",
       "      <td>0.0</td>\n",
       "      <td>0.0</td>\n",
       "      <td>0.0</td>\n",
       "      <td>19.0</td>\n",
       "      <td>0.0</td>\n",
       "      <td>19.0</td>\n",
       "      <td>...</td>\n",
       "      <td>7.69</td>\n",
       "      <td>5.42</td>\n",
       "      <td>-0.4</td>\n",
       "      <td>13346.0</td>\n",
       "      <td>7.28</td>\n",
       "      <td>5.42</td>\n",
       "      <td>13.1</td>\n",
       "      <td>8.78</td>\n",
       "      <td>208704.0</td>\n",
       "      <td>NaN</td>\n",
       "    </tr>\n",
       "  </tbody>\n",
       "</table>\n",
       "<p>5 rows × 30 columns</p>\n",
       "</div>"
      ],
      "text/plain": [
       "   Unnamed: 0         Name   Unnamed: 2    Team    W    L   SV     G   GS  \\\n",
       "0         1.0  Mike Mayers  Mike Mayers  Angels  2.0  0.0  2.0  29.0  0.0   \n",
       "1         2.0   Ty Buttrey   Ty Buttrey  Angels  2.0  3.0  5.0  27.0  0.0   \n",
       "2         3.0   Felix Pena   Felix Pena  Angels  3.0  0.0  2.0  25.0  0.0   \n",
       "3         4.0  Noe Ramirez  Noe Ramirez  Angels  1.0  0.0  0.0  21.0  0.0   \n",
       "4         5.0  Hoby Milner  Hoby Milner  Angels  0.0  0.0  0.0  19.0  0.0   \n",
       "\n",
       "   Relief Games  ...   FIP  xFIP  WAR  playerid  release_extension  fWAR  \\\n",
       "0          29.0  ...  2.19  3.38  0.9   15451.0               7.29  3.38   \n",
       "1          27.0  ...  4.94  4.65 -0.1   14719.0               6.62  4.65   \n",
       "2          25.0  ...  3.00  3.62  0.5   13403.0               5.71  3.62   \n",
       "3          21.0  ...  4.52  5.49  0.1   12800.0               5.28  5.49   \n",
       "4          19.0  ...  7.69  5.42 -0.4   13346.0               7.28  5.42   \n",
       "\n",
       "   K/9.1    B/9   Salary   Maj.League minum   \n",
       "0   30.0  12.90  573000.0           563500.0  \n",
       "1   26.1   6.15  578500.0                NaN  \n",
       "2   26.2   9.79  587500.0                NaN  \n",
       "3   21.0   6.00  900000.0                NaN  \n",
       "4   13.1   8.78  208704.0                NaN  \n",
       "\n",
       "[5 rows x 30 columns]"
      ]
     },
     "execution_count": 36,
     "metadata": {},
     "output_type": "execute_result"
    }
   ],
   "source": [
    "Salaries.head()"
   ]
  },
  {
   "cell_type": "code",
   "execution_count": 37,
   "metadata": {},
   "outputs": [
    {
     "name": "stdout",
     "output_type": "stream",
     "text": [
      "<class 'pandas.core.frame.DataFrame'>\n",
      "RangeIndex: 153 entries, 0 to 152\n",
      "Data columns (total 30 columns):\n",
      "Unnamed: 0           150 non-null float64\n",
      "Name                 150 non-null object\n",
      "Unnamed: 2           150 non-null object\n",
      "Team                 150 non-null object\n",
      "W                    150 non-null float64\n",
      "L                    150 non-null float64\n",
      "SV                   150 non-null float64\n",
      "G                    150 non-null float64\n",
      "GS                   150 non-null float64\n",
      "Relief Games         150 non-null float64\n",
      "IP                   150 non-null float64\n",
      "K/9                  150 non-null float64\n",
      "BB/9                 150 non-null float64\n",
      "HR/9                 150 non-null float64\n",
      "BABIP                150 non-null float64\n",
      "LOB%                 150 non-null float64\n",
      "GB%                  150 non-null float64\n",
      "HR/FB                150 non-null float64\n",
      "EV                   150 non-null float64\n",
      "ERA                  150 non-null float64\n",
      "FIP                  150 non-null float64\n",
      "xFIP                 150 non-null float64\n",
      "WAR                  150 non-null float64\n",
      "playerid             150 non-null float64\n",
      "release_extension    150 non-null float64\n",
      "fWAR                 150 non-null float64\n",
      "K/9.1                150 non-null float64\n",
      "B/9                  150 non-null float64\n",
      " Salary              150 non-null float64\n",
      "Maj.League minum     1 non-null float64\n",
      "dtypes: float64(27), object(3)\n",
      "memory usage: 36.0+ KB\n"
     ]
    }
   ],
   "source": [
    "Salaries.info()"
   ]
  },
  {
   "cell_type": "code",
   "execution_count": 38,
   "metadata": {},
   "outputs": [
    {
     "data": {
      "text/plain": [
       "count    1.500000e+02\n",
       "mean     2.274562e+06\n",
       "std      3.434245e+06\n",
       "min      2.087040e+05\n",
       "25%      5.685250e+05\n",
       "50%      5.920000e+05\n",
       "75%      2.088750e+06\n",
       "max      1.900000e+07\n",
       "Name:  Salary , dtype: float64"
      ]
     },
     "execution_count": 38,
     "metadata": {},
     "output_type": "execute_result"
    }
   ],
   "source": [
    "Salaries[\" Salary \"].describe()"
   ]
  },
  {
   "cell_type": "code",
   "execution_count": 39,
   "metadata": {},
   "outputs": [],
   "source": [
    "Salaries[\" Salary \"] = Salaries[\" Salary \"].astype(str).astype(float)"
   ]
  },
  {
   "cell_type": "code",
   "execution_count": 40,
   "metadata": {},
   "outputs": [
    {
     "name": "stdout",
     "output_type": "stream",
     "text": [
      "<class 'pandas.core.frame.DataFrame'>\n",
      "RangeIndex: 153 entries, 0 to 152\n",
      "Data columns (total 30 columns):\n",
      "Unnamed: 0           150 non-null float64\n",
      "Name                 150 non-null object\n",
      "Unnamed: 2           150 non-null object\n",
      "Team                 150 non-null object\n",
      "W                    150 non-null float64\n",
      "L                    150 non-null float64\n",
      "SV                   150 non-null float64\n",
      "G                    150 non-null float64\n",
      "GS                   150 non-null float64\n",
      "Relief Games         150 non-null float64\n",
      "IP                   150 non-null float64\n",
      "K/9                  150 non-null float64\n",
      "BB/9                 150 non-null float64\n",
      "HR/9                 150 non-null float64\n",
      "BABIP                150 non-null float64\n",
      "LOB%                 150 non-null float64\n",
      "GB%                  150 non-null float64\n",
      "HR/FB                150 non-null float64\n",
      "EV                   150 non-null float64\n",
      "ERA                  150 non-null float64\n",
      "FIP                  150 non-null float64\n",
      "xFIP                 150 non-null float64\n",
      "WAR                  150 non-null float64\n",
      "playerid             150 non-null float64\n",
      "release_extension    150 non-null float64\n",
      "fWAR                 150 non-null float64\n",
      "K/9.1                150 non-null float64\n",
      "B/9                  150 non-null float64\n",
      " Salary              150 non-null float64\n",
      "Maj.League minum     1 non-null float64\n",
      "dtypes: float64(27), object(3)\n",
      "memory usage: 36.0+ KB\n"
     ]
    }
   ],
   "source": [
    "Salaries.info()"
   ]
  },
  {
   "cell_type": "code",
   "execution_count": 44,
   "metadata": {},
   "outputs": [
    {
     "data": {
      "text/plain": [
       "<matplotlib.axes._subplots.AxesSubplot at 0x7fe104552b90>"
      ]
     },
     "execution_count": 44,
     "metadata": {},
     "output_type": "execute_result"
    },
    {
     "data": {
      "image/png": "[encoded data removed]",
      "text/plain": [
       "<Figure size 1440x1440 with 1 Axes>"
      ]
     },
     "metadata": {
      "needs_background": "light"
     },
     "output_type": "display_data"
    }
   ],
   "source": [
    "plt.figure(figsize=(20,20))\n",
    "sns.barplot(x= 'Team', y= ' Salary ', data = Salaries)"
   ]
  },
  {
   "cell_type": "code",
   "execution_count": 50,
   "metadata": {},
   "outputs": [
    {
     "ename": "SyntaxError",
     "evalue": "invalid syntax (<ipython-input-50-eabfe81eb78a>, line 1)",
     "output_type": "error",
     "traceback": [
      "\u001b[0;36m  File \u001b[0;32m\"<ipython-input-50-eabfe81eb78a>\"\u001b[0;36m, line \u001b[0;32m1\u001b[0m\n\u001b[0;31m    corr= Salaries.corr(:2)\u001b[0m\n\u001b[0m                        ^\u001b[0m\n\u001b[0;31mSyntaxError\u001b[0m\u001b[0;31m:\u001b[0m invalid syntax\n"
     ]
    }
   ],
   "source": [
    "corr= Salaries.corr()\n",
    "print (corr)"
   ]
  },
  {
   "cell_type": "code",
   "execution_count": 52,
   "metadata": {},
   "outputs": [
    {
     "data": {
      "image/png": "[encoded data removed]",
      "text/plain": [
       "<Figure size 864x864 with 2 Axes>"
      ]
     },
     "metadata": {
      "needs_background": "light"
     },
     "output_type": "display_data"
    }
   ],
   "source": [
    "plt.figure(figsize = (12,12))\n",
    "sns.heatmap(corr, cbar = True, square = True, cmap = \"coolwarm\")\n",
    "plt.show()"
   ]
  },
  {
   "cell_type": "code",
   "execution_count": null,
   "metadata": {},
   "outputs": [],
   "source": []
  }
 ],
 "metadata": {
  "kernelspec": {
   "display_name": "Python 3",
   "language": "python",
   "name": "python3"
  },
  "language_info": {
   "codemirror_mode": {
    "name": "ipython",
    "version": 3
   },
   "file_extension": ".py",
   "mimetype": "text/x-python",
   "name": "python",
   "nbconvert_exporter": "python",
   "pygments_lexer": "ipython3",
   "version": "3.7.4"
  }
 },
 "nbformat": 4,
 "nbformat_minor": 2
}
